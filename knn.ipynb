{
 "cells": [
  {
   "cell_type": "code",
   "execution_count": 110,
   "metadata": {},
   "outputs": [],
   "source": [
    "import numpy as np\n",
    "import pandas as pd\n",
    "import matplotlib.pyplot as plt\n",
    "import math"
   ]
  },
  {
   "cell_type": "code",
   "execution_count": 111,
   "metadata": {},
   "outputs": [],
   "source": [
    "#Zastosowana normalizacja oparta jest na min-max. \n",
    "#Wartości są normalizowane na podstawie ich znaczenia i odchylen.\n",
    "def normalizeZscore(v):\n",
    "    return (v-np.mean(v,axis=0))/np.std(v,axis=0)"
   ]
  },
  {
   "cell_type": "code",
   "execution_count": 112,
   "metadata": {},
   "outputs": [],
   "source": [
    "#Metoda przeprowadza liniową transformację pierwotnych danych do przedziału [0,1]\n",
    "def normalizeMinMax(v):\n",
    "    return (v-np.amin(v,axis=0))/(np.amax(v,axis=0)-np.amin(v,axis=0))"
   ]
  },
  {
   "cell_type": "code",
   "execution_count": 113,
   "metadata": {},
   "outputs": [],
   "source": [
    "def splitIntoSection(normalizeDate,size = 500):\n",
    "    # Funkcja odpowiedzialna za podzielenie sekcje według podanego segmentu\n",
    "    # Muszę podzielić dane na segmenty. Próbe przeprowadzę dla segmentów 500 elementowych\n",
    "    array = [np.zeros(size) for i in range(int(len(normalizeDate)/size))]\n",
    "    i = 0\n",
    "    n = 0\n",
    "    while(i < len(array)):\n",
    "        for j in range(len(array[i])):\n",
    "            array[i][j] = normalizeDate[n]\n",
    "            n+=1\n",
    "        i+=1\n",
    "    return array"
   ]
  },
  {
   "cell_type": "code",
   "execution_count": 114,
   "metadata": {},
   "outputs": [],
   "source": [
    "def train_test_split(date,size):\n",
    "    # Funkcja odpowiedzialna za podzielenie danych na dane treningowe i testowe \n",
    "    # Kolejnym etapem będzie podział na dane treningowe i testowe w stosunku 7:3. \n",
    "    size = round(len(date) * (size * 0.01))\n",
    "    train = date[0:size]\n",
    "    test = date[size:]\n",
    "    return train,test"
   ]
  },
  {
   "cell_type": "code",
   "execution_count": 115,
   "metadata": {},
   "outputs": [],
   "source": [
    "def openFile(file):\n",
    "    # Funkcja odpowiedzialna za otwarcie i zmniejszenie częstotliwości próbkowania źródła\n",
    "    # Część odpowiedzialna za zmniejszenie liczby sygnałów. Mamy zbyt częste próbkowanie (ok 100 MHz), dlatego \n",
    "    # muszę zmniejszyć częstotliwość próbkowania do ok 10 MHz.\n",
    "    df = pd.read_csv(file, delimiter = \"\\t\")\n",
    "    dateToMuch = df.to_numpy()\n",
    "    j = 0\n",
    "    length = 0\n",
    "    \n",
    "    if len(dateToMuch) % 10 != 0:\n",
    "        length = len(dateToMuch) - (len(dateToMuch) % 10)\n",
    "    else:\n",
    "        length = len(dateToMuch)\n",
    "        \n",
    "    date = np.zeros(int(len(dateToMuch)/10))\n",
    "    for i in range(0,length,10):\n",
    "        date[j] = dateToMuch[i]\n",
    "        j+=1\n",
    "    return date"
   ]
  },
  {
   "cell_type": "code",
   "execution_count": 116,
   "metadata": {},
   "outputs": [],
   "source": [
    "def distances(train,x):\n",
    "    return  np.sqrt(np.sum((x - train)**2, axis=1))"
   ]
  },
  {
   "cell_type": "code",
   "execution_count": 117,
   "metadata": {},
   "outputs": [],
   "source": [
    "def k_nearest_classes(train, x, k=1):\n",
    "    dist = distances(x)\n",
    "    if k == 1:\n",
    "        return train_labels[np.argmin(dist)]\n",
    "    else:\n",
    "        return train_labels[np.argsort(dist)[:k]]"
   ]
  },
  {
   "cell_type": "code",
   "execution_count": 118,
   "metadata": {},
   "outputs": [],
   "source": [
    "def classify(x, k=1):\n",
    "    if len(x.shape)>1:\n",
    "        return np.array([np.bincount(k_nearest_classes(i,k)).argmax() for i in x ])\n",
    "    return np.bincount(k_nearest_classes(x,k)).argmax()"
   ]
  },
  {
   "cell_type": "code",
   "execution_count": 121,
   "metadata": {},
   "outputs": [],
   "source": [
    "def main(cell):\n",
    "    \n",
    "    # Otwarcie pliku i zmniejszenie próbkowania\n",
    "    date = openFile('date/fibroblasty/f9.txt')\n",
    "#     plt.figure(figsize=(16,4))\n",
    "#     plt.grid(True)\n",
    "#     plt.plot(date[0:],'b-')\n",
    "    \n",
    "    # Następnym elementem będzie normalizacja danych. Chcemy wykluczyć nagłe skoki sygnałowe.\n",
    "    normalizeDate = normalizeZscore(date)\n",
    "#     plt.figure(figsize=(16,4))\n",
    "#     plt.grid(True)\n",
    "#     plt.plot(normalizeDate[0:],'b-')\n",
    "    \n",
    "    # Podział na próbki 500 elementowe\n",
    "    array = splitIntoSection(normalizeDate,500)\n",
    "    \n",
    "    # Podział na dane treningowe i testowe w stosunku 7:3\n",
    "    traningX = [[] for i in range(len(array))]\n",
    "    testX = [[] for i in range(len(array))]\n",
    "    for i in range(len(array)):\n",
    "        traningX[i],testX[i] =  train_test_split(array[i],70)\n",
    "        \n",
    "    # Utworzenie labely do tablic\n",
    "    traningY = [[] for i in range(len(array))]\n",
    "    testY = [[] for i in range(len(array))]\n",
    "    for i in range(len(traningX)):\n",
    "        for j in range(len(traningX[i])):\n",
    "                traningY[i].append(cell)\n",
    "    for i in range(len(testX)):\n",
    "        for j in range(len(testX[i])):\n",
    "            testY[i].append(cell)\n",
    "#     print(len(traningY[0]))\n",
    "#     print(len(testY[0]))\n",
    "\n",
    "    # Wyćwiczenie klasyfikatora\n",
    "    print(distances(traningX[0],testX[0][0]))\n",
    "    \n",
    "    \n",
    "    "
   ]
  },
  {
   "cell_type": "code",
   "execution_count": 122,
   "metadata": {},
   "outputs": [],
   "source": [
    "main('f')"
   ]
  },
  {
   "cell_type": "code",
   "execution_count": 98,
   "metadata": {},
   "outputs": [],
   "source": []
  },
  {
   "cell_type": "code",
   "execution_count": null,
   "metadata": {},
   "outputs": [],
   "source": []
  }
 ],
 "metadata": {
  "kernelspec": {
   "display_name": "Python 3",
   "language": "python",
   "name": "python3"
  },
  "language_info": {
   "codemirror_mode": {
    "name": "ipython",
    "version": 3
   },
   "file_extension": ".py",
   "mimetype": "text/x-python",
   "name": "python",
   "nbconvert_exporter": "python",
   "pygments_lexer": "ipython3",
   "version": "3.7.4"
  }
 },
 "nbformat": 4,
 "nbformat_minor": 2
}
